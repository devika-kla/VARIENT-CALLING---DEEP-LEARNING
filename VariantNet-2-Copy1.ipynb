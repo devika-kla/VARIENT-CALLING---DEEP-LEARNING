{
 "cells": [
  {
   "cell_type": "markdown",
   "metadata": {},
   "source": [
    "## VARIANT CALLING USING DEEP LEARNING\n"
   ]
  },
  {
   "cell_type": "markdown",
   "metadata": {},
   "source": [
    "#### Importing libraries"
   ]
  },
  {
   "cell_type": "code",
   "execution_count": 2,
   "metadata": {},
   "outputs": [],
   "source": [
    "import numpy as np \n",
    "import matplotlib.pyplot as plt \n",
    "import tensorflow as tf \n",
    "import intervaltree \n",
    "import random"
   ]
  },
  {
   "cell_type": "markdown",
   "metadata": {},
   "source": [
    "1. *aln_tensor_fn* : This file contains information about sequence alignments at specific genomic positions in the form of a tensor.\n",
    "2. *variant_set_fn* : This file contains information about genetic variants, specifying details such as the genomic position, reference allele, alternate allele, and possibly additional information like genotype (homozygous, heterozygous).\n",
    "3. *mask_bed_fn* : This file contains the initial and end positions of masked regions. The \"masked regions\" often refer to regions of the genome that should be excluded or ignored during analysis. These regions might be masked for various reasons, such as having poor quality or containing repetitive elements that are difficult to align accurately."
   ]
  },
  {
   "cell_type": "code",
   "execution_count": 3,
   "metadata": {},
   "outputs": [],
   "source": [
    "def get_training_array( aln_tensor_fn, variant_set_fn, mask_bed_fn ):\n",
    "    # Mapping of DNA bases to numerical values\n",
    "    base2num = dict(zip(\"ACGT\",(0, 1, 2, 3)))\n",
    "\n",
    "    # Create an interval tree to store masked regions\n",
    "    tree =  intervaltree.IntervalTree()\n",
    "    with open(mask_bed_fn) as f:\n",
    "        for row in f:\n",
    "            row = row.strip().split()\n",
    "            b = int(row[1])\n",
    "            e = int(row[2])\n",
    "            tree.addi(b, e, None)\n",
    "\n",
    "    # Initialize a dictionary to store information about variant positions\n",
    "    Y_intitial = {}\n",
    "    with open( variant_set_fn ) as f:\n",
    "        for row in f:\n",
    "            row = row.strip().split()\n",
    "            # Determine if the variant is heterozygous or not\n",
    "            if row[3] == \"0\":\n",
    "                het = True\n",
    "            else:\n",
    "                het = False\n",
    "            \n",
    "            pos = int(row[0])\n",
    "            # Skip positions not present in the masked regions\n",
    "            if len(tree.at(pos)) == 0:\n",
    "                continue\n",
    "            # Initialize a base vector\n",
    "            base_vec = [0,0,0,0,0,0,0,0]  #first 4, base vec, last 4, het, hom, non-variant, not-SNPs\n",
    "            # Update the base vector based on the variant type\n",
    "            if het:\n",
    "                base_vec[base2num[row[1][0]]] = 0.5\n",
    "                base_vec[base2num[row[2][0]]] = 0.5\n",
    "                base_vec[4] = 1.\n",
    "            else:\n",
    "                base_vec[base2num[row[2][0]]] = 1\n",
    "                base_vec[5] = 1.\n",
    "\n",
    "            if len(row[1]) > 1 or len(row[2]) > 1 :  # not simple SNP case\n",
    "                base_vec[7] = 1.\n",
    "                base_vec[4] = 0.\n",
    "                base_vec[5] = 0.\n",
    "        \n",
    "            Y_intitial[pos] = base_vec\n",
    "            \n",
    "    Y_pos = sorted(Y_intitial.keys())\n",
    "    cpos = Y_pos[0]\n",
    "    for pos in Y_pos[1:]:\n",
    "        if abs(pos - cpos) < 12:\n",
    "            Y_intitial[pos][7] = 1\n",
    "            Y_intitial[cpos][7] = 1\n",
    "            \n",
    "            Y_intitial[pos][4] = 0\n",
    "            Y_intitial[cpos][4] = 0\n",
    "            Y_intitial[pos][5] = 0\n",
    "            Y_intitial[cpos][5] = 0\n",
    "        cpos = pos\n",
    "    \n",
    "     # Initialize a dictionary to store information about the alignment tensor\n",
    "    X_intitial = {}  \n",
    "\n",
    "    with open( aln_tensor_fn ) as f:\n",
    "        for row in f:\n",
    "            row = row.strip().split()\n",
    "            pos = int(row[0])\n",
    "            # Skip positions not present in the masked regions\n",
    "            if len(tree.at(pos)) == 0:\n",
    "                continue\n",
    "            ref_seq = row[1]\n",
    "            # Skip positions with reference sequences containing unexpected characters\n",
    "            if ref_seq[7] not in [\"A\",\"C\",\"G\",\"T\"]:\n",
    "                continue\n",
    "            vec = np.reshape(np.array([float(x) for x in row[2:]]), (15,3,4))\n",
    "\n",
    "            vec = np.transpose(vec, axes=(0,2,1))\n",
    "            # Skip positions with low coverage\n",
    "            if sum(vec[7,:,0]) < 5:\n",
    "                continue\n",
    "            \n",
    "            vec[:,:,1] -= vec[:,:,0]#Subtract the values in the second dimension from the values in the first dimension\n",
    "            vec[:,:,2] -= vec[:,:,0]#Subtract the values in the third dimension from the values in the first dimension\n",
    "\n",
    "            \n",
    "            X_intitial[pos] = vec\n",
    "            \n",
    "            if pos not in Y_intitial:\n",
    "                base_vec = [0,0,0,0,0,0,0,0]\n",
    "                base_vec[base2num[ref_seq[7]]] = 1\n",
    "                base_vec[6] = 1.\n",
    "                Y_intitial[pos] = base_vec\n",
    "                \n",
    "    all_pos = sorted(X_intitial.keys())\n",
    "    random.shuffle(all_pos)\n",
    "    \n",
    "    # Create arrays for X, Y, and positions\n",
    "    Xarray = []\n",
    "    Yarray = []\n",
    "    pos_array = []\n",
    "    for pos in all_pos:\n",
    "        Xarray.append(X_intitial[pos])\n",
    "        Yarray.append(Y_intitial[pos])\n",
    "        pos_array.append(pos)\n",
    "    Xarray = np.array(Xarray)\n",
    "    Yarray = np.array(Yarray)\n",
    "\n",
    "    return Xarray, Yarray, pos_array"
   ]
  },
  {
   "cell_type": "markdown",
   "metadata": {},
   "source": [
    "#### Loading the dataset"
   ]
  },
  {
   "cell_type": "code",
   "execution_count": 4,
   "metadata": {},
   "outputs": [],
   "source": [
    "Xarray, Yarray, pos_array = get_training_array(r\"E:\\aln_tensor_chr21\",\n",
    "                         r\"E:\\variants_chr21\",\n",
    "                         r\"E:\\CHROM21_v.3.3.2_highconf_noinconsistent.bed\" )"
   ]
  },
  {
   "cell_type": "code",
   "execution_count": 5,
   "metadata": {},
   "outputs": [
    {
     "name": "stdout",
     "output_type": "stream",
     "text": [
      "Shape of Xarray :  (53537, 15, 4, 3)\n",
      "Shape of Yarray :  (53537, 8)\n",
      "Length of position array :  53537\n"
     ]
    }
   ],
   "source": [
    "print(\"Shape of Xarray : \",Xarray.shape)\n",
    "print(\"Shape of Yarray : \" ,Yarray.shape)\n",
    "print(\"Length of position array : \",len(pos_array))"
   ]
  },
  {
   "cell_type": "code",
   "execution_count": 7,
   "metadata": {},
   "outputs": [
    {
     "name": "stdout",
     "output_type": "stream",
     "text": [
      "[[[  0.  55.   0.  57.   0.   0.   0.   0.   0.  52.  57.  56.   0.   0.\n",
      "    48.]\n",
      "  [  0.   0.   0.   0.   0.   0.   0.   0.   0.   0.   0.   0.   0.   0.\n",
      "     0.]\n",
      "  [ 56.   0.  53.   0.  50.  55.  56.  56.  56.   0.   0.   0.  52.   0.\n",
      "     0.]\n",
      "  [  0.   0.   0.   0.   0.   0.   0.   0.   0.   0.   0.   0.   0.  55.\n",
      "     0.]]\n",
      "\n",
      " [[  3.  -4.   1.  -3.   2.   1.   0.   2.   1.  -3.  -1.   0.   0.   1.\n",
      "    -1.]\n",
      "  [  0.   2.   0.   2.   0.   0.   1.  36.   6.   0.   0.   0.   0.   0.\n",
      "     0.]\n",
      "  [ -5.   2.  -1.   1.  -4.  -3.  -3. -38.  -7.   3.   0.   0.   0.   2.\n",
      "     0.]\n",
      "  [  2.   0.   0.   0.   2.   2.   2.   0.   0.   0.   1.   0.   0.  -3.\n",
      "     1.]]\n",
      "\n",
      " [[  3.  -4.   1.  -3.   2.   1.   0.   2.   1.  -3.  -1.   0.   0.   1.\n",
      "    -1.]\n",
      "  [  0.   2.   0.   2.   0.   0.   1.  36.   6.   0.   0.   0.   0.   0.\n",
      "     0.]\n",
      "  [ -5.   2.  -1.   1.  -4.  -3.  -3. -38.  -7.   3.   0.   0.   0.   2.\n",
      "     0.]\n",
      "  [  2.   0.   0.   0.   2.   2.   2.   0.   0.   0.   1.   0.   0.  -3.\n",
      "     1.]]]\n"
     ]
    }
   ],
   "source": [
    "print(Xarray[0].T)"
   ]
  },
  {
   "cell_type": "code",
   "execution_count": 8,
   "metadata": {},
   "outputs": [
    {
     "name": "stdout",
     "output_type": "stream",
     "text": [
      "[0. 1. 0. 0. 0. 1. 0. 0.]\n"
     ]
    }
   ],
   "source": [
    "print(Yarray[0])"
   ]
  },
  {
   "cell_type": "markdown",
   "metadata": {},
   "source": [
    "The first 4 elements of the Yarray specifies the A,C,G,T and the remaining 4 elements represents \"Homozygous\",\"Hetro\",\"Variant\", and \"Complex-variant\""
   ]
  },
  {
   "cell_type": "code",
   "execution_count": 9,
   "metadata": {},
   "outputs": [
    {
     "name": "stdout",
     "output_type": "stream",
     "text": [
      "Yarray Shape :  (53537, 8)\n",
      "Yarray_C shape :  (53537, 4)\n",
      "Yarray_V shpae :  (53537, 4)\n",
      "\n",
      "Printing elements in the array\n",
      "Yarray[0] :  [0. 1. 0. 0. 0. 1. 0. 0.]\n",
      "Yarray_C[0] :  [0. 1. 0. 0.]\n",
      "Yarray_V[0] :  [0. 1. 0. 0.]\n"
     ]
    }
   ],
   "source": [
    "# Splitting the Yarray\n",
    "\n",
    "Yarray_C , Yarray_V = np.split(Yarray,2,axis=1)\n",
    "print(\"Yarray Shape : \",Yarray.shape)\n",
    "print(\"Yarray_C shape : \",Yarray_C.shape)\n",
    "print(\"Yarray_V shpae : \",Yarray_V.shape)\n",
    "print(\"\\nPrinting elements in the array\")\n",
    "print(\"Yarray[0] : \",Yarray[0])\n",
    "print(\"Yarray_C[0] : \",Yarray_C[0])\n",
    "print(\"Yarray_V[0] : \",Yarray_V[0])"
   ]
  },
  {
   "cell_type": "code",
   "execution_count": 10,
   "metadata": {},
   "outputs": [
    {
     "data": {
      "text/plain": [
       "<matplotlib.image.AxesImage at 0x1c6eec5d300>"
      ]
     },
     "execution_count": 10,
     "metadata": {},
     "output_type": "execute_result"
    },
    {
     "data": {
      "image/png": "[encoded data removed]",
      "text/plain": [
       "<Figure size 500x200 with 1 Axes>"
      ]
     },
     "metadata": {},
     "output_type": "display_data"
    },
    {
     "data": {
      "image/png": "[encoded data removed]",
      "text/plain": [
       "<Figure size 500x200 with 1 Axes>"
      ]
     },
     "metadata": {},
     "output_type": "display_data"
    },
    {
     "data": {
      "image/png": "[encoded data removed]",
      "text/plain": [
       "<Figure size 500x200 with 1 Axes>"
      ]
     },
     "metadata": {},
     "output_type": "display_data"
    }
   ],
   "source": [
    "#plotting the array tensors\n",
    "i = 200\n",
    "plt.figure(figsize=(5, 2))\n",
    "plt.matshow(Xarray[i,:,:,0].transpose(), vmin=0, vmax=50, cmap=\"coolwarm\", fignum=0)\n",
    "plt.figure(figsize=(5, 2))\n",
    "plt.matshow(Xarray[i,:,:,1].transpose(), vmin=-50, vmax=50, cmap=\"coolwarm\", fignum=0)\n",
    "plt.figure(figsize=(5, 2))\n",
    "plt.matshow(Xarray[i,:,:,2].transpose(), vmin=-50, vmax=50, cmap=\"coolwarm\", fignum=0)"
   ]
  },
  {
   "cell_type": "markdown",
   "metadata": {},
   "source": [
    "#### Creating the model "
   ]
  },
  {
   "cell_type": "code",
   "execution_count": 29,
   "metadata": {},
   "outputs": [],
   "source": [
    "from tensorflow.keras.layers import Input, Dense, Conv2D, MaxPooling2D, Flatten, Dropout\n",
    "from tensorflow.keras.models import Model"
   ]
  },
  {
   "cell_type": "code",
   "execution_count": 58,
   "metadata": {},
   "outputs": [],
   "source": [
    "inputs = Input(shape=(15,4,3))\n",
    "\n",
    "conv1 = Conv2D(filters=64, kernel_size=(2,2),padding=\"same\",activation=\"elu\")(inputs)\n",
    "pool1 = MaxPooling2D(pool_size=(4,1),strides=1)(conv1)\n",
    "\n",
    "conv2 = Conv2D(filters=56, kernel_size=(3,2),padding=\"same\",activation=\"elu\")(pool1)\n",
    "pool2 = MaxPooling2D(pool_size=(3,1),strides=1)(conv2)\n",
    "\n",
    "flatten = Flatten()(pool2)\n",
    "\n",
    "dense1 = Dense(128,activation=\"elu\")(flatten)\n",
    "drop1 = Dropout(0.40)(dense1)\n",
    "\n",
    "dense2 = Dense(64,activation=\"elu\")(drop1)\n",
    "drop2 = Dropout(0.40)(dense2)\n",
    "\n",
    "dense3 = Dense(32,activation=\"elu\")(drop2)\n",
    "drop3 = Dropout(0.50)(dense3)\n",
    "\n",
    "dense4 = Dense(16,activation=\"elu\")(drop3)\n",
    "drop4 = Dropout(0.50)(dense4)\n",
    "\n",
    "output1 = Dense(4,activation = \"softmax\",name=\"output1\")(drop4)\n",
    "output2 = Dense(4,activation = \"elu\",name=\"output2\")(drop4)"
   ]
  },
  {
   "cell_type": "code",
   "execution_count": 59,
   "metadata": {},
   "outputs": [
    {
     "name": "stdout",
     "output_type": "stream",
     "text": [
      "Model: \"model_4\"\n",
      "__________________________________________________________________________________________________\n",
      " Layer (type)                Output Shape                 Param #   Connected to                  \n",
      "==================================================================================================\n",
      " input_5 (InputLayer)        [(None, 15, 4, 3)]           0         []                            \n",
      "                                                                                                  \n",
      " conv2d_8 (Conv2D)           (None, 15, 4, 64)            832       ['input_5[0][0]']             \n",
      "                                                                                                  \n",
      " max_pooling2d_8 (MaxPoolin  (None, 12, 4, 64)            0         ['conv2d_8[0][0]']            \n",
      " g2D)                                                                                             \n",
      "                                                                                                  \n",
      " conv2d_9 (Conv2D)           (None, 12, 4, 56)            21560     ['max_pooling2d_8[0][0]']     \n",
      "                                                                                                  \n",
      " max_pooling2d_9 (MaxPoolin  (None, 10, 4, 56)            0         ['conv2d_9[0][0]']            \n",
      " g2D)                                                                                             \n",
      "                                                                                                  \n",
      " flatten_4 (Flatten)         (None, 2240)                 0         ['max_pooling2d_9[0][0]']     \n",
      "                                                                                                  \n",
      " dense_16 (Dense)            (None, 128)                  286848    ['flatten_4[0][0]']           \n",
      "                                                                                                  \n",
      " dropout_16 (Dropout)        (None, 128)                  0         ['dense_16[0][0]']            \n",
      "                                                                                                  \n",
      " dense_17 (Dense)            (None, 64)                   8256      ['dropout_16[0][0]']          \n",
      "                                                                                                  \n",
      " dropout_17 (Dropout)        (None, 64)                   0         ['dense_17[0][0]']            \n",
      "                                                                                                  \n",
      " dense_18 (Dense)            (None, 32)                   2080      ['dropout_17[0][0]']          \n",
      "                                                                                                  \n",
      " dropout_18 (Dropout)        (None, 32)                   0         ['dense_18[0][0]']            \n",
      "                                                                                                  \n",
      " dense_19 (Dense)            (None, 16)                   528       ['dropout_18[0][0]']          \n",
      "                                                                                                  \n",
      " dropout_19 (Dropout)        (None, 16)                   0         ['dense_19[0][0]']            \n",
      "                                                                                                  \n",
      " output1 (Dense)             (None, 4)                    68        ['dropout_19[0][0]']          \n",
      "                                                                                                  \n",
      " output2 (Dense)             (None, 4)                    68        ['dropout_19[0][0]']          \n",
      "                                                                                                  \n",
      "==================================================================================================\n",
      "Total params: 320240 (1.22 MB)\n",
      "Trainable params: 320240 (1.22 MB)\n",
      "Non-trainable params: 0 (0.00 Byte)\n",
      "__________________________________________________________________________________________________\n"
     ]
    }
   ],
   "source": [
    "model = Model(inputs=inputs, outputs=[output1, output2])\n",
    "\n",
    "model.summary()"
   ]
  },
  {
   "cell_type": "code",
   "execution_count": 60,
   "metadata": {},
   "outputs": [],
   "source": [
    "model.compile(optimizer=tf._optimizers.Adam(learning_rate=0.0001),loss=\"mean_squared_error\",metrics=['accuracy'])"
   ]
  },
  {
   "cell_type": "markdown",
   "metadata": {},
   "source": [
    "#### Splitting the data for training and validation"
   ]
  },
  {
   "cell_type": "code",
   "execution_count": 61,
   "metadata": {},
   "outputs": [],
   "source": [
    "from sklearn.model_selection import  train_test_split\n",
    "\n",
    "x_train,x_val,y_train,y_val = train_test_split(Xarray,Yarray,train_size=0.8,random_state=10)"
   ]
  },
  {
   "cell_type": "code",
   "execution_count": 62,
   "metadata": {},
   "outputs": [],
   "source": [
    "Ytrain_C , Ytrain_V = np.split(y_train,2,axis=1)\n",
    "Yval_C, Yval_V = np.split(y_val,2,axis=1)"
   ]
  },
  {
   "cell_type": "markdown",
   "metadata": {},
   "source": [
    "#### Training the model "
   ]
  },
  {
   "cell_type": "code",
   "execution_count": 63,
   "metadata": {},
   "outputs": [
    {
     "name": "stdout",
     "output_type": "stream",
     "text": [
      "Epoch 1/20\n",
      "1339/1339 [==============================] - 36s 25ms/step - loss: 2.2746 - output1_loss: 0.1945 - output2_loss: 2.0800 - output1_accuracy: 0.2574 - output2_accuracy: 0.2488 - val_loss: 0.7107 - val_output1_loss: 0.1360 - val_output2_loss: 0.5748 - val_output1_accuracy: 0.1925 - val_output2_accuracy: 0.4508\n",
      "Epoch 2/20\n",
      "1339/1339 [==============================] - 35s 26ms/step - loss: 0.9890 - output1_loss: 0.1620 - output2_loss: 0.8270 - output1_accuracy: 0.2536 - output2_accuracy: 0.2951 - val_loss: 0.5713 - val_output1_loss: 0.1268 - val_output2_loss: 0.4444 - val_output1_accuracy: 0.3089 - val_output2_accuracy: 0.4506\n",
      "Epoch 3/20\n",
      "1339/1339 [==============================] - 35s 26ms/step - loss: 0.7622 - output1_loss: 0.1447 - output2_loss: 0.6175 - output1_accuracy: 0.2623 - output2_accuracy: 0.3157 - val_loss: 0.4479 - val_output1_loss: 0.1238 - val_output2_loss: 0.3241 - val_output1_accuracy: 0.2177 - val_output2_accuracy: 0.4566\n",
      "Epoch 4/20\n",
      "1339/1339 [==============================] - 34s 25ms/step - loss: 0.5962 - output1_loss: 0.1349 - output2_loss: 0.4613 - output1_accuracy: 0.2668 - output2_accuracy: 0.3436 - val_loss: 0.3513 - val_output1_loss: 0.1236 - val_output2_loss: 0.2277 - val_output1_accuracy: 0.2005 - val_output2_accuracy: 0.6208\n",
      "Epoch 5/20\n",
      "1339/1339 [==============================] - 35s 26ms/step - loss: 0.4661 - output1_loss: 0.1294 - output2_loss: 0.3368 - output1_accuracy: 0.2772 - output2_accuracy: 0.3781 - val_loss: 0.2978 - val_output1_loss: 0.1235 - val_output2_loss: 0.1743 - val_output1_accuracy: 0.2649 - val_output2_accuracy: 0.6473\n",
      "Epoch 6/20\n",
      "1339/1339 [==============================] - 35s 26ms/step - loss: 0.3758 - output1_loss: 0.1262 - output2_loss: 0.2496 - output1_accuracy: 0.2840 - output2_accuracy: 0.4375 - val_loss: 0.2622 - val_output1_loss: 0.1232 - val_output2_loss: 0.1390 - val_output1_accuracy: 0.3011 - val_output2_accuracy: 0.6965\n",
      "Epoch 7/20\n",
      "1339/1339 [==============================] - 35s 26ms/step - loss: 0.3146 - output1_loss: 0.1248 - output2_loss: 0.1898 - output1_accuracy: 0.2896 - output2_accuracy: 0.5382 - val_loss: 0.2274 - val_output1_loss: 0.1209 - val_output2_loss: 0.1066 - val_output1_accuracy: 0.3715 - val_output2_accuracy: 0.7520\n",
      "Epoch 8/20\n",
      "1339/1339 [==============================] - 34s 26ms/step - loss: 0.2765 - output1_loss: 0.1225 - output2_loss: 0.1539 - output1_accuracy: 0.3104 - output2_accuracy: 0.6372 - val_loss: 0.2073 - val_output1_loss: 0.1181 - val_output2_loss: 0.0892 - val_output1_accuracy: 0.4428 - val_output2_accuracy: 0.7885\n",
      "Epoch 9/20\n",
      "1339/1339 [==============================] - 37s 27ms/step - loss: 0.2424 - output1_loss: 0.1161 - output2_loss: 0.1263 - output1_accuracy: 0.3433 - output2_accuracy: 0.7170 - val_loss: 0.1676 - val_output1_loss: 0.0984 - val_output2_loss: 0.0692 - val_output1_accuracy: 0.5190 - val_output2_accuracy: 0.8565\n",
      "Epoch 10/20\n",
      "1339/1339 [==============================] - 36s 27ms/step - loss: 0.2064 - output1_loss: 0.0978 - output2_loss: 0.1086 - output1_accuracy: 0.4196 - output2_accuracy: 0.7627 - val_loss: 0.1329 - val_output1_loss: 0.0688 - val_output2_loss: 0.0642 - val_output1_accuracy: 0.5126 - val_output2_accuracy: 0.8681\n",
      "Epoch 11/20\n",
      "1339/1339 [==============================] - 35s 26ms/step - loss: 0.1779 - output1_loss: 0.0803 - output2_loss: 0.0975 - output1_accuracy: 0.5160 - output2_accuracy: 0.7840 - val_loss: 0.1022 - val_output1_loss: 0.0447 - val_output2_loss: 0.0575 - val_output1_accuracy: 0.5275 - val_output2_accuracy: 0.8781\n",
      "Epoch 12/20\n",
      "1339/1339 [==============================] - 36s 27ms/step - loss: 0.1598 - output1_loss: 0.0681 - output2_loss: 0.0917 - output1_accuracy: 0.5790 - output2_accuracy: 0.7958 - val_loss: 0.0886 - val_output1_loss: 0.0328 - val_output2_loss: 0.0559 - val_output1_accuracy: 0.6536 - val_output2_accuracy: 0.8784\n",
      "Epoch 13/20\n",
      "1339/1339 [==============================] - 37s 28ms/step - loss: 0.1482 - output1_loss: 0.0599 - output2_loss: 0.0883 - output1_accuracy: 0.6261 - output2_accuracy: 0.8017 - val_loss: 0.0780 - val_output1_loss: 0.0253 - val_output2_loss: 0.0527 - val_output1_accuracy: 0.7588 - val_output2_accuracy: 0.8885\n",
      "Epoch 14/20\n",
      "1339/1339 [==============================] - 36s 27ms/step - loss: 0.1400 - output1_loss: 0.0538 - output2_loss: 0.0863 - output1_accuracy: 0.6508 - output2_accuracy: 0.8076 - val_loss: 0.0739 - val_output1_loss: 0.0228 - val_output2_loss: 0.0510 - val_output1_accuracy: 0.7239 - val_output2_accuracy: 0.8930\n",
      "Epoch 15/20\n",
      "1339/1339 [==============================] - 36s 27ms/step - loss: 0.1347 - output1_loss: 0.0501 - output2_loss: 0.0846 - output1_accuracy: 0.6603 - output2_accuracy: 0.8111 - val_loss: 0.0732 - val_output1_loss: 0.0211 - val_output2_loss: 0.0521 - val_output1_accuracy: 0.7577 - val_output2_accuracy: 0.8860\n",
      "Epoch 16/20\n",
      "1339/1339 [==============================] - 37s 28ms/step - loss: 0.1299 - output1_loss: 0.0469 - output2_loss: 0.0830 - output1_accuracy: 0.6684 - output2_accuracy: 0.8156 - val_loss: 0.0677 - val_output1_loss: 0.0185 - val_output2_loss: 0.0493 - val_output1_accuracy: 0.8143 - val_output2_accuracy: 0.9011\n",
      "Epoch 17/20\n",
      "1339/1339 [==============================] - 37s 28ms/step - loss: 0.1244 - output1_loss: 0.0436 - output2_loss: 0.0808 - output1_accuracy: 0.6804 - output2_accuracy: 0.8212 - val_loss: 0.0651 - val_output1_loss: 0.0180 - val_output2_loss: 0.0471 - val_output1_accuracy: 0.7769 - val_output2_accuracy: 0.9018\n",
      "Epoch 18/20\n",
      "1339/1339 [==============================] - 30s 23ms/step - loss: 0.1215 - output1_loss: 0.0418 - output2_loss: 0.0798 - output1_accuracy: 0.6850 - output2_accuracy: 0.8251 - val_loss: 0.0637 - val_output1_loss: 0.0171 - val_output2_loss: 0.0465 - val_output1_accuracy: 0.7594 - val_output2_accuracy: 0.9024\n",
      "Epoch 19/20\n",
      "1339/1339 [==============================] - 30s 23ms/step - loss: 0.1182 - output1_loss: 0.0402 - output2_loss: 0.0780 - output1_accuracy: 0.6954 - output2_accuracy: 0.8324 - val_loss: 0.0627 - val_output1_loss: 0.0162 - val_output2_loss: 0.0465 - val_output1_accuracy: 0.7583 - val_output2_accuracy: 0.9046\n",
      "Epoch 20/20\n",
      "1339/1339 [==============================] - 31s 23ms/step - loss: 0.1154 - output1_loss: 0.0383 - output2_loss: 0.0771 - output1_accuracy: 0.7000 - output2_accuracy: 0.8346 - val_loss: 0.0602 - val_output1_loss: 0.0162 - val_output2_loss: 0.0440 - val_output1_accuracy: 0.8061 - val_output2_accuracy: 0.9048\n"
     ]
    }
   ],
   "source": [
    "history = model.fit(x_train,{\"output1\":Ytrain_C,\"output2\":Ytrain_V},epochs=20,validation_data=(x_val,{\"output1\":Yval_C,\"output2\":Yval_V}))"
   ]
  },
  {
   "cell_type": "code",
   "execution_count": 64,
   "metadata": {},
   "outputs": [
    {
     "data": {
      "text/html": [
       "<div>\n",
       "<style scoped>\n",
       "    .dataframe tbody tr th:only-of-type {\n",
       "        vertical-align: middle;\n",
       "    }\n",
       "\n",
       "    .dataframe tbody tr th {\n",
       "        vertical-align: top;\n",
       "    }\n",
       "\n",
       "    .dataframe thead th {\n",
       "        text-align: right;\n",
       "    }\n",
       "</style>\n",
       "<table border=\"1\" class=\"dataframe\">\n",
       "  <thead>\n",
       "    <tr style=\"text-align: right;\">\n",
       "      <th></th>\n",
       "      <th>loss</th>\n",
       "      <th>output1_loss</th>\n",
       "      <th>output2_loss</th>\n",
       "      <th>output1_accuracy</th>\n",
       "      <th>output2_accuracy</th>\n",
       "      <th>val_loss</th>\n",
       "      <th>val_output1_loss</th>\n",
       "      <th>val_output2_loss</th>\n",
       "      <th>val_output1_accuracy</th>\n",
       "      <th>val_output2_accuracy</th>\n",
       "    </tr>\n",
       "  </thead>\n",
       "  <tbody>\n",
       "    <tr>\n",
       "      <th>0</th>\n",
       "      <td>2.274564</td>\n",
       "      <td>0.194523</td>\n",
       "      <td>2.080041</td>\n",
       "      <td>0.257442</td>\n",
       "      <td>0.248803</td>\n",
       "      <td>0.710718</td>\n",
       "      <td>0.135955</td>\n",
       "      <td>0.574763</td>\n",
       "      <td>0.192473</td>\n",
       "      <td>0.450784</td>\n",
       "    </tr>\n",
       "    <tr>\n",
       "      <th>1</th>\n",
       "      <td>0.988966</td>\n",
       "      <td>0.162009</td>\n",
       "      <td>0.826956</td>\n",
       "      <td>0.253637</td>\n",
       "      <td>0.295127</td>\n",
       "      <td>0.571282</td>\n",
       "      <td>0.126842</td>\n",
       "      <td>0.444440</td>\n",
       "      <td>0.308928</td>\n",
       "      <td>0.450598</td>\n",
       "    </tr>\n",
       "    <tr>\n",
       "      <th>2</th>\n",
       "      <td>0.762199</td>\n",
       "      <td>0.144705</td>\n",
       "      <td>0.617495</td>\n",
       "      <td>0.262252</td>\n",
       "      <td>0.315721</td>\n",
       "      <td>0.447854</td>\n",
       "      <td>0.123787</td>\n",
       "      <td>0.324068</td>\n",
       "      <td>0.217688</td>\n",
       "      <td>0.456575</td>\n",
       "    </tr>\n",
       "    <tr>\n",
       "      <th>3</th>\n",
       "      <td>0.596152</td>\n",
       "      <td>0.134888</td>\n",
       "      <td>0.461265</td>\n",
       "      <td>0.266782</td>\n",
       "      <td>0.343576</td>\n",
       "      <td>0.351343</td>\n",
       "      <td>0.123627</td>\n",
       "      <td>0.227716</td>\n",
       "      <td>0.200504</td>\n",
       "      <td>0.620844</td>\n",
       "    </tr>\n",
       "    <tr>\n",
       "      <th>4</th>\n",
       "      <td>0.466109</td>\n",
       "      <td>0.129354</td>\n",
       "      <td>0.336755</td>\n",
       "      <td>0.277219</td>\n",
       "      <td>0.378062</td>\n",
       "      <td>0.297838</td>\n",
       "      <td>0.123501</td>\n",
       "      <td>0.174337</td>\n",
       "      <td>0.264942</td>\n",
       "      <td>0.647273</td>\n",
       "    </tr>\n",
       "    <tr>\n",
       "      <th>5</th>\n",
       "      <td>0.375834</td>\n",
       "      <td>0.126236</td>\n",
       "      <td>0.249598</td>\n",
       "      <td>0.284013</td>\n",
       "      <td>0.437484</td>\n",
       "      <td>0.262156</td>\n",
       "      <td>0.123177</td>\n",
       "      <td>0.138978</td>\n",
       "      <td>0.301083</td>\n",
       "      <td>0.696489</td>\n",
       "    </tr>\n",
       "    <tr>\n",
       "      <th>6</th>\n",
       "      <td>0.314626</td>\n",
       "      <td>0.124807</td>\n",
       "      <td>0.189819</td>\n",
       "      <td>0.289570</td>\n",
       "      <td>0.538187</td>\n",
       "      <td>0.227445</td>\n",
       "      <td>0.120872</td>\n",
       "      <td>0.106573</td>\n",
       "      <td>0.371498</td>\n",
       "      <td>0.751961</td>\n",
       "    </tr>\n",
       "    <tr>\n",
       "      <th>7</th>\n",
       "      <td>0.276478</td>\n",
       "      <td>0.122546</td>\n",
       "      <td>0.153932</td>\n",
       "      <td>0.310350</td>\n",
       "      <td>0.637185</td>\n",
       "      <td>0.207307</td>\n",
       "      <td>0.118130</td>\n",
       "      <td>0.089178</td>\n",
       "      <td>0.442753</td>\n",
       "      <td>0.788476</td>\n",
       "    </tr>\n",
       "    <tr>\n",
       "      <th>8</th>\n",
       "      <td>0.242440</td>\n",
       "      <td>0.116146</td>\n",
       "      <td>0.126294</td>\n",
       "      <td>0.343272</td>\n",
       "      <td>0.717014</td>\n",
       "      <td>0.167554</td>\n",
       "      <td>0.098394</td>\n",
       "      <td>0.069160</td>\n",
       "      <td>0.518958</td>\n",
       "      <td>0.856462</td>\n",
       "    </tr>\n",
       "    <tr>\n",
       "      <th>9</th>\n",
       "      <td>0.206415</td>\n",
       "      <td>0.097786</td>\n",
       "      <td>0.108629</td>\n",
       "      <td>0.419646</td>\n",
       "      <td>0.762661</td>\n",
       "      <td>0.132942</td>\n",
       "      <td>0.068790</td>\n",
       "      <td>0.064152</td>\n",
       "      <td>0.512607</td>\n",
       "      <td>0.868136</td>\n",
       "    </tr>\n",
       "    <tr>\n",
       "      <th>10</th>\n",
       "      <td>0.177861</td>\n",
       "      <td>0.080317</td>\n",
       "      <td>0.097544</td>\n",
       "      <td>0.515982</td>\n",
       "      <td>0.783955</td>\n",
       "      <td>0.102161</td>\n",
       "      <td>0.044669</td>\n",
       "      <td>0.057493</td>\n",
       "      <td>0.527550</td>\n",
       "      <td>0.878129</td>\n",
       "    </tr>\n",
       "    <tr>\n",
       "      <th>11</th>\n",
       "      <td>0.159804</td>\n",
       "      <td>0.068145</td>\n",
       "      <td>0.091659</td>\n",
       "      <td>0.578954</td>\n",
       "      <td>0.795816</td>\n",
       "      <td>0.088647</td>\n",
       "      <td>0.032791</td>\n",
       "      <td>0.055856</td>\n",
       "      <td>0.653623</td>\n",
       "      <td>0.878409</td>\n",
       "    </tr>\n",
       "    <tr>\n",
       "      <th>12</th>\n",
       "      <td>0.148160</td>\n",
       "      <td>0.059867</td>\n",
       "      <td>0.088293</td>\n",
       "      <td>0.626141</td>\n",
       "      <td>0.801723</td>\n",
       "      <td>0.077950</td>\n",
       "      <td>0.025257</td>\n",
       "      <td>0.052693</td>\n",
       "      <td>0.758779</td>\n",
       "      <td>0.888495</td>\n",
       "    </tr>\n",
       "    <tr>\n",
       "      <th>13</th>\n",
       "      <td>0.140047</td>\n",
       "      <td>0.053750</td>\n",
       "      <td>0.086297</td>\n",
       "      <td>0.650797</td>\n",
       "      <td>0.807584</td>\n",
       "      <td>0.073858</td>\n",
       "      <td>0.022832</td>\n",
       "      <td>0.051026</td>\n",
       "      <td>0.723945</td>\n",
       "      <td>0.892977</td>\n",
       "    </tr>\n",
       "    <tr>\n",
       "      <th>14</th>\n",
       "      <td>0.134693</td>\n",
       "      <td>0.050083</td>\n",
       "      <td>0.084610</td>\n",
       "      <td>0.660300</td>\n",
       "      <td>0.811086</td>\n",
       "      <td>0.073206</td>\n",
       "      <td>0.021092</td>\n",
       "      <td>0.052114</td>\n",
       "      <td>0.757658</td>\n",
       "      <td>0.885973</td>\n",
       "    </tr>\n",
       "    <tr>\n",
       "      <th>15</th>\n",
       "      <td>0.129909</td>\n",
       "      <td>0.046944</td>\n",
       "      <td>0.082964</td>\n",
       "      <td>0.668426</td>\n",
       "      <td>0.815592</td>\n",
       "      <td>0.067749</td>\n",
       "      <td>0.018477</td>\n",
       "      <td>0.049272</td>\n",
       "      <td>0.814251</td>\n",
       "      <td>0.901102</td>\n",
       "    </tr>\n",
       "    <tr>\n",
       "      <th>16</th>\n",
       "      <td>0.124388</td>\n",
       "      <td>0.043587</td>\n",
       "      <td>0.080801</td>\n",
       "      <td>0.680427</td>\n",
       "      <td>0.821196</td>\n",
       "      <td>0.065124</td>\n",
       "      <td>0.018010</td>\n",
       "      <td>0.047113</td>\n",
       "      <td>0.776896</td>\n",
       "      <td>0.901849</td>\n",
       "    </tr>\n",
       "    <tr>\n",
       "      <th>17</th>\n",
       "      <td>0.121535</td>\n",
       "      <td>0.041769</td>\n",
       "      <td>0.079766</td>\n",
       "      <td>0.685027</td>\n",
       "      <td>0.825072</td>\n",
       "      <td>0.063668</td>\n",
       "      <td>0.017143</td>\n",
       "      <td>0.046525</td>\n",
       "      <td>0.759432</td>\n",
       "      <td>0.902409</td>\n",
       "    </tr>\n",
       "    <tr>\n",
       "      <th>18</th>\n",
       "      <td>0.118150</td>\n",
       "      <td>0.040160</td>\n",
       "      <td>0.077991</td>\n",
       "      <td>0.695440</td>\n",
       "      <td>0.832357</td>\n",
       "      <td>0.062651</td>\n",
       "      <td>0.016195</td>\n",
       "      <td>0.046455</td>\n",
       "      <td>0.758312</td>\n",
       "      <td>0.904557</td>\n",
       "    </tr>\n",
       "    <tr>\n",
       "      <th>19</th>\n",
       "      <td>0.115443</td>\n",
       "      <td>0.038328</td>\n",
       "      <td>0.077115</td>\n",
       "      <td>0.700040</td>\n",
       "      <td>0.834598</td>\n",
       "      <td>0.060215</td>\n",
       "      <td>0.016169</td>\n",
       "      <td>0.044047</td>\n",
       "      <td>0.806126</td>\n",
       "      <td>0.904837</td>\n",
       "    </tr>\n",
       "  </tbody>\n",
       "</table>\n",
       "</div>"
      ],
      "text/plain": [
       "        loss  output1_loss  output2_loss  output1_accuracy  output2_accuracy  \\\n",
       "0   2.274564      0.194523      2.080041          0.257442          0.248803   \n",
       "1   0.988966      0.162009      0.826956          0.253637          0.295127   \n",
       "2   0.762199      0.144705      0.617495          0.262252          0.315721   \n",
       "3   0.596152      0.134888      0.461265          0.266782          0.343576   \n",
       "4   0.466109      0.129354      0.336755          0.277219          0.378062   \n",
       "5   0.375834      0.126236      0.249598          0.284013          0.437484   \n",
       "6   0.314626      0.124807      0.189819          0.289570          0.538187   \n",
       "7   0.276478      0.122546      0.153932          0.310350          0.637185   \n",
       "8   0.242440      0.116146      0.126294          0.343272          0.717014   \n",
       "9   0.206415      0.097786      0.108629          0.419646          0.762661   \n",
       "10  0.177861      0.080317      0.097544          0.515982          0.783955   \n",
       "11  0.159804      0.068145      0.091659          0.578954          0.795816   \n",
       "12  0.148160      0.059867      0.088293          0.626141          0.801723   \n",
       "13  0.140047      0.053750      0.086297          0.650797          0.807584   \n",
       "14  0.134693      0.050083      0.084610          0.660300          0.811086   \n",
       "15  0.129909      0.046944      0.082964          0.668426          0.815592   \n",
       "16  0.124388      0.043587      0.080801          0.680427          0.821196   \n",
       "17  0.121535      0.041769      0.079766          0.685027          0.825072   \n",
       "18  0.118150      0.040160      0.077991          0.695440          0.832357   \n",
       "19  0.115443      0.038328      0.077115          0.700040          0.834598   \n",
       "\n",
       "    val_loss  val_output1_loss  val_output2_loss  val_output1_accuracy  \\\n",
       "0   0.710718          0.135955          0.574763              0.192473   \n",
       "1   0.571282          0.126842          0.444440              0.308928   \n",
       "2   0.447854          0.123787          0.324068              0.217688   \n",
       "3   0.351343          0.123627          0.227716              0.200504   \n",
       "4   0.297838          0.123501          0.174337              0.264942   \n",
       "5   0.262156          0.123177          0.138978              0.301083   \n",
       "6   0.227445          0.120872          0.106573              0.371498   \n",
       "7   0.207307          0.118130          0.089178              0.442753   \n",
       "8   0.167554          0.098394          0.069160              0.518958   \n",
       "9   0.132942          0.068790          0.064152              0.512607   \n",
       "10  0.102161          0.044669          0.057493              0.527550   \n",
       "11  0.088647          0.032791          0.055856              0.653623   \n",
       "12  0.077950          0.025257          0.052693              0.758779   \n",
       "13  0.073858          0.022832          0.051026              0.723945   \n",
       "14  0.073206          0.021092          0.052114              0.757658   \n",
       "15  0.067749          0.018477          0.049272              0.814251   \n",
       "16  0.065124          0.018010          0.047113              0.776896   \n",
       "17  0.063668          0.017143          0.046525              0.759432   \n",
       "18  0.062651          0.016195          0.046455              0.758312   \n",
       "19  0.060215          0.016169          0.044047              0.806126   \n",
       "\n",
       "    val_output2_accuracy  \n",
       "0               0.450784  \n",
       "1               0.450598  \n",
       "2               0.456575  \n",
       "3               0.620844  \n",
       "4               0.647273  \n",
       "5               0.696489  \n",
       "6               0.751961  \n",
       "7               0.788476  \n",
       "8               0.856462  \n",
       "9               0.868136  \n",
       "10              0.878129  \n",
       "11              0.878409  \n",
       "12              0.888495  \n",
       "13              0.892977  \n",
       "14              0.885973  \n",
       "15              0.901102  \n",
       "16              0.901849  \n",
       "17              0.902409  \n",
       "18              0.904557  \n",
       "19              0.904837  "
      ]
     },
     "execution_count": 64,
     "metadata": {},
     "output_type": "execute_result"
    }
   ],
   "source": [
    "import pandas as pd \n",
    "\n",
    "history_df = pd.DataFrame(history.history)\n",
    "history_df"
   ]
  },
  {
   "cell_type": "code",
   "execution_count": 65,
   "metadata": {},
   "outputs": [
    {
     "data": {
      "image/png": "[encoded data removed]",
      "text/plain": [
       "<Figure size 640x480 with 1 Axes>"
      ]
     },
     "metadata": {},
     "output_type": "display_data"
    }
   ],
   "source": [
    "import matplotlib.pyplot as plt\n",
    "\n",
    "plt.plot(history_df['output1_accuracy'], label='Output 1')\n",
    "plt.plot(history_df['output2_accuracy'], label='Output 2')\n",
    "plt.xlabel('Epoch')\n",
    "plt.ylabel('Accuracy')\n",
    "plt.title('Output Accuracies')\n",
    "plt.legend()\n",
    "plt.show()\n"
   ]
  },
  {
   "cell_type": "code",
   "execution_count": 66,
   "metadata": {},
   "outputs": [
    {
     "name": "stderr",
     "output_type": "stream",
     "text": [
      "C:\\Users\\Asus\\AppData\\Local\\Programs\\Python\\Python310\\lib\\site-packages\\keras\\src\\engine\\training.py:3000: UserWarning: You are saving your model as an HDF5 file via `model.save()`. This file format is considered legacy. We recommend using instead the native Keras format, e.g. `model.save('my_model.keras')`.\n",
      "  saving_api.save_model(\n"
     ]
    }
   ],
   "source": [
    "model.save(\"Best_model_for_varient_calling.h5\")"
   ]
  },
  {
   "cell_type": "markdown",
   "metadata": {},
   "source": [
    "#### Model Evaluation"
   ]
  },
  {
   "cell_type": "code",
   "execution_count": 67,
   "metadata": {},
   "outputs": [],
   "source": [
    "Xarray2, Yarray2, pos_array2 = get_training_array(r\"E:\\aln_tensor_chr22\", \n",
    "                         r\"E:\\variants_chr22\", \n",
    "                        r\"E:\\CHROM22_v.3.3.2_highconf_noinconsistent.bed\" )"
   ]
  },
  {
   "cell_type": "code",
   "execution_count": 68,
   "metadata": {},
   "outputs": [
    {
     "name": "stdout",
     "output_type": "stream",
     "text": [
      "(47234, 15, 4, 3)\n",
      "(47234, 8)\n"
     ]
    }
   ],
   "source": [
    "print(Xarray2.shape)\n",
    "print(Yarray2.shape)"
   ]
  },
  {
   "cell_type": "code",
   "execution_count": 69,
   "metadata": {},
   "outputs": [],
   "source": [
    "Yarray2_C, Yarray2_V = np.split(Yarray2,2,axis=1)"
   ]
  },
  {
   "cell_type": "code",
   "execution_count": 70,
   "metadata": {},
   "outputs": [
    {
     "name": "stdout",
     "output_type": "stream",
     "text": [
      "1477/1477 [==============================] - 8s 5ms/step\n"
     ]
    }
   ],
   "source": [
    "base,t = model.predict(Xarray2)"
   ]
  },
  {
   "cell_type": "code",
   "execution_count": 71,
   "metadata": {},
   "outputs": [],
   "source": [
    "base_m = base.argmax(axis=1)\n",
    "t_m = t.argmax(axis=1)"
   ]
  },
  {
   "cell_type": "code",
   "execution_count": 72,
   "metadata": {},
   "outputs": [
    {
     "data": {
      "text/plain": [
       "<matplotlib.image.AxesImage at 0x1c6a51b0f40>"
      ]
     },
     "execution_count": 72,
     "metadata": {},
     "output_type": "execute_result"
    },
    {
     "data": {
      "image/png": "[encoded data removed]",
      "text/plain": [
       "<Figure size 1500x1000 with 1 Axes>"
      ]
     },
     "metadata": {},
     "output_type": "display_data"
    },
    {
     "data": {
      "image/png": "[encoded data removed]",
      "text/plain": [
       "<Figure size 1500x1000 with 1 Axes>"
      ]
     },
     "metadata": {},
     "output_type": "display_data"
    }
   ],
   "source": [
    "# # we can compare the output of the expected calls and the predicted calls\n",
    "\n",
    "plt.figure(figsize=(15, 10))\n",
    "plt.matshow(Yarray2[100:150,:].transpose(), fignum=0)\n",
    "plt.figure(figsize=(15, 10))\n",
    "plt.matshow(np.concatenate( (base[100:150,:],t[100:150,:]),1).transpose(), fignum=0)\n"
   ]
  },
  {
   "cell_type": "code",
   "execution_count": 73,
   "metadata": {},
   "outputs": [
    {
     "name": "stdout",
     "output_type": "stream",
     "text": [
      "              precision    recall  f1-score   support\n",
      "\n",
      "           0       0.94      0.97      0.95     21809\n",
      "           1       0.92      0.99      0.95      9691\n",
      "           2       0.86      0.98      0.92     12609\n",
      "           3       0.00      0.00      0.00      3125\n",
      "\n",
      "    accuracy                           0.91     47234\n",
      "   macro avg       0.68      0.73      0.71     47234\n",
      "weighted avg       0.85      0.91      0.88     47234\n",
      "\n"
     ]
    },
    {
     "name": "stderr",
     "output_type": "stream",
     "text": [
      "C:\\Users\\Asus\\AppData\\Local\\Programs\\Python\\Python310\\lib\\site-packages\\sklearn\\metrics\\_classification.py:1334: UndefinedMetricWarning: Precision and F-score are ill-defined and being set to 0.0 in labels with no predicted samples. Use `zero_division` parameter to control this behavior.\n",
      "  _warn_prf(average, modifier, msg_start, len(result))\n",
      "C:\\Users\\Asus\\AppData\\Local\\Programs\\Python\\Python310\\lib\\site-packages\\sklearn\\metrics\\_classification.py:1334: UndefinedMetricWarning: Precision and F-score are ill-defined and being set to 0.0 in labels with no predicted samples. Use `zero_division` parameter to control this behavior.\n",
      "  _warn_prf(average, modifier, msg_start, len(result))\n",
      "C:\\Users\\Asus\\AppData\\Local\\Programs\\Python\\Python310\\lib\\site-packages\\sklearn\\metrics\\_classification.py:1334: UndefinedMetricWarning: Precision and F-score are ill-defined and being set to 0.0 in labels with no predicted samples. Use `zero_division` parameter to control this behavior.\n",
      "  _warn_prf(average, modifier, msg_start, len(result))\n"
     ]
    }
   ],
   "source": [
    "from sklearn.metrics import classification_report\n",
    "\n",
    "print(classification_report(Yarray2_V.argmax(axis=1), t.argmax(axis=1)))"
   ]
  },
  {
   "cell_type": "code",
   "execution_count": null,
   "metadata": {},
   "outputs": [],
   "source": []
  },
  {
   "cell_type": "code",
   "execution_count": null,
   "metadata": {},
   "outputs": [],
   "source": []
  }
 ],
 "metadata": {
  "kernelspec": {
   "display_name": "Python 3 (ipykernel)",
   "language": "python",
   "name": "python3"
  },
  "language_info": {
   "codemirror_mode": {
    "name": "ipython",
    "version": 3
   },
   "file_extension": ".py",
   "mimetype": "text/x-python",
   "name": "python",
   "nbconvert_exporter": "python",
   "pygments_lexer": "ipython3",
   "version": "3.10.8"
  }
 },
 "nbformat": 4,
 "nbformat_minor": 2
}
